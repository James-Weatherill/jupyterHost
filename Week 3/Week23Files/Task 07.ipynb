{
 "cells": [
  {
   "cell_type": "code",
   "execution_count": 15,
   "id": "7aefe6ec",
   "metadata": {},
   "outputs": [
    {
     "name": "stdout",
     "output_type": "stream",
     "text": [
      "Type an integer: hello\n",
      "\n",
      "Your number is not an integer. Try again\n",
      "Type an integer: Bryan\n",
      "\n",
      "Your number is not an integer. Try again\n",
      "Type an integer: 16\n",
      "\n",
      "16 > 10\n"
     ]
    }
   ],
   "source": [
    "global usrNum\n",
    "\n",
    "def numeric():\n",
    "    global usrNum\n",
    "    usrNum = input(\"Type an integer: \")\n",
    "    if usrNum.isnumeric() ==  False:\n",
    "        print(\"\\nYour number is not an integer. Try again\")\n",
    "        numeric()\n",
    "numeric()\n",
    "\n",
    "i = True\n",
    "while i:\n",
    "    if usrNum.isnumeric():\n",
    "        if int(usrNum)<10:\n",
    "            print('')\n",
    "            usrNum = int(usrNum) + 1\n",
    "            usrNum = str(usrNum)\n",
    "            print(int(usrNum))\n",
    "        else:\n",
    "            if int(usrNum) == 10:\n",
    "                print(\"\\n\" + usrNum + \" == 10\")\n",
    "            elif int(usrNum) > 10:\n",
    "                print(\"\\n\" + usrNum + \" > 10\")\n",
    "            i = False"
   ]
  },
  {
   "cell_type": "code",
   "execution_count": null,
   "id": "6aeafcc9",
   "metadata": {},
   "outputs": [],
   "source": []
  },
  {
   "cell_type": "code",
   "execution_count": null,
   "id": "bc92942a",
   "metadata": {},
   "outputs": [],
   "source": []
  }
 ],
 "metadata": {
  "kernelspec": {
   "display_name": "Python_Worksheet",
   "language": "python",
   "name": "python_worksheet"
  },
  "language_info": {
   "codemirror_mode": {
    "name": "ipython",
    "version": 3
   },
   "file_extension": ".py",
   "mimetype": "text/x-python",
   "name": "python",
   "nbconvert_exporter": "python",
   "pygments_lexer": "ipython3",
   "version": "3.9.16"
  }
 },
 "nbformat": 4,
 "nbformat_minor": 5
}
