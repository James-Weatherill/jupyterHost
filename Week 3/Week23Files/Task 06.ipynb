{
 "cells": [
  {
   "cell_type": "code",
   "execution_count": 9,
   "id": "4add2700",
   "metadata": {},
   "outputs": [
    {
     "name": "stdout",
     "output_type": "stream",
     "text": [
      "Please input a number below. We will check if it is:\n",
      "\n",
      "Greater than,\n",
      "Less than,\n",
      "or equal,\n",
      "to 10!\n",
      "\n",
      "Please enter any integer: 9\n",
      "\n",
      "Your number, 9, is less than 10!\n"
     ]
    }
   ],
   "source": [
    "def GrLeEq10():\n",
    "\n",
    "    print(\"Please input a number below. We will check if it is:\\n\\nGreater than,\\nLess than,\\nor equal,\\nto 10!\\n\")\n",
    "\n",
    "    usrNum = input(\"Please enter any integer: \")\n",
    "\n",
    "    if usrNum.isnumeric():\n",
    "        if int(usrNum)>10:\n",
    "            print(\"\\nYour number, \" + usrNum + \", is greater than 10!\")\n",
    "        elif int(usrNum)<10:\n",
    "            print(\"\\nYour number, \" + usrNum + \", is less than 10!\")\n",
    "        else:\n",
    "            print(\"\\nYour number, \" + usrNum + \", is equal to 10!\")\n",
    "    else:\n",
    "        print(\"\\nYour input is not a number... Try again\")\n",
    "        GrLeEq10()\n",
    "GrLeEq10()"
   ]
  },
  {
   "cell_type": "code",
   "execution_count": null,
   "id": "d78ebd23",
   "metadata": {},
   "outputs": [],
   "source": []
  }
 ],
 "metadata": {
  "kernelspec": {
   "display_name": "Python_Worksheet",
   "language": "python",
   "name": "python_worksheet"
  },
  "language_info": {
   "codemirror_mode": {
    "name": "ipython",
    "version": 3
   },
   "file_extension": ".py",
   "mimetype": "text/x-python",
   "name": "python",
   "nbconvert_exporter": "python",
   "pygments_lexer": "ipython3",
   "version": "3.9.13"
  }
 },
 "nbformat": 4,
 "nbformat_minor": 5
}
