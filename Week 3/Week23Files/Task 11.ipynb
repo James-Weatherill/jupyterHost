{
 "cells": [
  {
   "cell_type": "code",
   "execution_count": 3,
   "id": "d39c0961",
   "metadata": {},
   "outputs": [
    {
     "name": "stdout",
     "output_type": "stream",
     "text": [
      "5 x 00 = 0\n",
      "5 x 01 = 5\n",
      "5 x 02 = 10\n",
      "5 x 03 = 15\n",
      "5 x 04 = 20\n",
      "5 x 05 = 25\n",
      "5 x 06 = 30\n",
      "5 x 07 = 35\n",
      "5 x 08 = 40\n",
      "5 x 09 = 45\n",
      "5 x 10 = 50\n",
      "5 x 11 = 55\n",
      "5 x 12 = 60\n"
     ]
    }
   ],
   "source": [
    "num = 0\n",
    "while num <= 12:\n",
    "    print(\"5 x\", str(num).zfill(2), \"=\", (5 * num))\n",
    "    num += 1"
   ]
  },
  {
   "cell_type": "code",
   "execution_count": null,
   "id": "df7a3517",
   "metadata": {},
   "outputs": [],
   "source": []
  }
 ],
 "metadata": {
  "kernelspec": {
   "display_name": "Python_Worksheet",
   "language": "python",
   "name": "python_worksheet"
  },
  "language_info": {
   "codemirror_mode": {
    "name": "ipython",
    "version": 3
   },
   "file_extension": ".py",
   "mimetype": "text/x-python",
   "name": "python",
   "nbconvert_exporter": "python",
   "pygments_lexer": "ipython3",
   "version": "3.9.16"
  }
 },
 "nbformat": 4,
 "nbformat_minor": 5
}
