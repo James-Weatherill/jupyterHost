{
 "cells": [
  {
   "cell_type": "code",
   "execution_count": 24,
   "id": "18e176d6",
   "metadata": {},
   "outputs": [
    {
     "name": "stdout",
     "output_type": "stream",
     "text": [
      "Please type an INTEGER less than 101: 20\n",
      "\n",
      "20! is equal to: 2432902008176640000\n"
     ]
    }
   ],
   "source": [
    "from math import factorial as facto\n",
    "\n",
    "notNum = True\n",
    "while notNum:\n",
    "    usrNum = input(\"Please type an INTEGER less than 101: \")\n",
    "    if usrNum.isnumeric():\n",
    "        usrNum = int(usrNum)\n",
    "        if usrNum<=100:\n",
    "            notNum = False\n",
    "        else:\n",
    "            print(\"\\nTry an integer LESS than 101\\n\")\n",
    "    else:\n",
    "        print(\"\\nNot an integer, try again\\n\")\n",
    "\n",
    "usrFact = facto(usrNum)\n",
    "\n",
    "print(\"\\n\" + str(usrNum) + \"! is equal to:\", usrFact)"
   ]
  },
  {
   "cell_type": "code",
   "execution_count": null,
   "id": "22311486",
   "metadata": {},
   "outputs": [],
   "source": []
  }
 ],
 "metadata": {
  "kernelspec": {
   "display_name": "Python_Worksheet",
   "language": "python",
   "name": "python_worksheet"
  },
  "language_info": {
   "codemirror_mode": {
    "name": "ipython",
    "version": 3
   },
   "file_extension": ".py",
   "mimetype": "text/x-python",
   "name": "python",
   "nbconvert_exporter": "python",
   "pygments_lexer": "ipython3",
   "version": "3.9.16"
  }
 },
 "nbformat": 4,
 "nbformat_minor": 5
}
