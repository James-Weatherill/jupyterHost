{
 "cells": [
  {
   "cell_type": "code",
   "execution_count": 4,
   "id": "e6b74229",
   "metadata": {},
   "outputs": [
    {
     "name": "stdout",
     "output_type": "stream",
     "text": [
      "Please type a number!\n",
      "\n",
      "It will be multiplied by 0 through 12 and the results will be displayed:5\n",
      "5 x 00 = 0\n",
      "5 x 01 = 5\n",
      "5 x 02 = 10\n",
      "5 x 03 = 15\n",
      "5 x 04 = 20\n",
      "5 x 05 = 25\n",
      "5 x 06 = 30\n",
      "5 x 07 = 35\n",
      "5 x 08 = 40\n",
      "5 x 09 = 45\n",
      "5 x 10 = 50\n",
      "5 x 11 = 55\n",
      "5 x 12 = 60\n"
     ]
    }
   ],
   "source": [
    "num = 0\n",
    "NOTNUM = True\n",
    "\n",
    "while NOTNUM:\n",
    "    usrNum = input(\"Please type a number!\\n\\nIt will be multiplied by 0 through 12 and the results will be displayed:\")\n",
    "    if usrNum.isnumeric():\n",
    "        NOTNUM = False\n",
    "    else:\n",
    "        print(\"\\nNot a number. Try again ->\\n\")\n",
    "\n",
    "while num<=12:\n",
    "    print(usrNum, \"x\", str(num).zfill(2), \"=\", (int(usrNum)*num))\n",
    "    num += 1"
   ]
  },
  {
   "cell_type": "code",
   "execution_count": null,
   "id": "b2da68b0",
   "metadata": {},
   "outputs": [],
   "source": []
  }
 ],
 "metadata": {
  "kernelspec": {
   "display_name": "Python_Worksheet",
   "language": "python",
   "name": "python_worksheet"
  },
  "language_info": {
   "codemirror_mode": {
    "name": "ipython",
    "version": 3
   },
   "file_extension": ".py",
   "mimetype": "text/x-python",
   "name": "python",
   "nbconvert_exporter": "python",
   "pygments_lexer": "ipython3",
   "version": "3.9.16"
  }
 },
 "nbformat": 4,
 "nbformat_minor": 5
}
