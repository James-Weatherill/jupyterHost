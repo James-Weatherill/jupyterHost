{
 "cells": [
  {
   "cell_type": "code",
   "execution_count": 4,
   "id": "7e8bccc7",
   "metadata": {},
   "outputs": [
    {
     "name": "stdout",
     "output_type": "stream",
     "text": [
      "Year 0 -> 2000 \n",
      "\n",
      "Year 1 -> 1800.0 \n",
      "\n",
      "Year 2 -> 1620.0 \n",
      "\n",
      "Year 3 -> 1458.0 \n",
      "\n",
      "Year 4 -> 1312.2 \n",
      "\n",
      "Year 5 -> 1180.98 \n",
      "\n",
      "Year 6 -> 1062.882 \n",
      "\n",
      "After 7 years, the price falls below £1,000 -> (£956.59)\n"
     ]
    }
   ],
   "source": [
    "motBike = 2000\n",
    "\n",
    "years = 0\n",
    "while motBike > 1000:\n",
    "    print(\"Year\", years, \"->\", motBike, \"\\n\")\n",
    "    motBike = motBike*0.9\n",
    "    years += 1\n",
    "\n",
    "print(\"After \" + str(years) + \" years, the price falls below £1,000 -> (£\" + str(round(motBike,2)) + \")\")"
   ]
  },
  {
   "cell_type": "code",
   "execution_count": null,
   "id": "99470acd",
   "metadata": {},
   "outputs": [],
   "source": []
  }
 ],
 "metadata": {
  "kernelspec": {
   "display_name": "Python_Worksheet",
   "language": "python",
   "name": "python_worksheet"
  },
  "language_info": {
   "codemirror_mode": {
    "name": "ipython",
    "version": 3
   },
   "file_extension": ".py",
   "mimetype": "text/x-python",
   "name": "python",
   "nbconvert_exporter": "python",
   "pygments_lexer": "ipython3",
   "version": "3.9.16"
  }
 },
 "nbformat": 4,
 "nbformat_minor": 5
}
