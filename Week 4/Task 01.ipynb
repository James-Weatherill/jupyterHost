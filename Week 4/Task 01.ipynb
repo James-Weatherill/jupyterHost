{
 "cells": [
  {
   "cell_type": "code",
   "execution_count": 4,
   "id": "8e65b657",
   "metadata": {},
   "outputs": [
    {
     "name": "stdout",
     "output_type": "stream",
     "text": [
      "Type a number to append to the list: 4\n",
      "Type a number to append to the list: 22\n",
      "Type a number to append to the list: 909\n",
      "Type a number to append to the list: 2513\n",
      "Type a number to append to the list: 82825\n"
     ]
    }
   ],
   "source": [
    "FILE = open(\"Numbers.txt\", \"a\")\n",
    "\n",
    "for i in range(5):\n",
    "    num = input(\"Type a number to append to the list: \")\n",
    "    FILE.write(num)\n",
    "    FILE.write(\"\\n\")\n"
   ]
  },
  {
   "cell_type": "code",
   "execution_count": null,
   "id": "a1d650c1",
   "metadata": {},
   "outputs": [],
   "source": []
  }
 ],
 "metadata": {
  "kernelspec": {
   "display_name": "Python_Worksheet",
   "language": "python",
   "name": "python_worksheet"
  },
  "language_info": {
   "codemirror_mode": {
    "name": "ipython",
    "version": 3
   },
   "file_extension": ".py",
   "mimetype": "text/x-python",
   "name": "python",
   "nbconvert_exporter": "python",
   "pygments_lexer": "ipython3",
   "version": "3.9.13"
  }
 },
 "nbformat": 4,
 "nbformat_minor": 5
}
