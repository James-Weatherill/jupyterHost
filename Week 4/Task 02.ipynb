{
 "cells": [
  {
   "cell_type": "code",
   "execution_count": 11,
   "id": "3a06a06f",
   "metadata": {},
   "outputs": [
    {
     "name": "stdout",
     "output_type": "stream",
     "text": [
      "\n",
      "Please type an integer:6263\n",
      "\n",
      "\n"
     ]
    }
   ],
   "source": [
    "FILE = open(\"less10.txt\", \"a\")\n",
    "noLines = open(\"less10.txt\", \"r\")\n",
    "\n",
    "lineNumber = 1\n",
    "newLine = \"\\n\"\n",
    "\n",
    "for newLine in noLines:\n",
    "    lineNumber += 1\n",
    "    \n",
    "notInt = True\n",
    "while notInt:\n",
    "    usrNum = input(\"\\nPlease type an integer:\")\n",
    "    if usrNum.isnumeric():\n",
    "        FILE.write(str(lineNumber) + \": \" + usrNum)\n",
    "        FILE.write(\"\\n\")\n",
    "        notInt = False\n",
    "    else:\n",
    "        print(\"\\nPlease type an integer \")\n",
    "\n",
    "print(\"\\n\")      \n",
    "             \n",
    "FILE.close()\n",
    "noLines.close()"
   ]
  },
  {
   "cell_type": "code",
   "execution_count": null,
   "id": "754e31ce",
   "metadata": {},
   "outputs": [],
   "source": []
  }
 ],
 "metadata": {
  "kernelspec": {
   "display_name": "Python_Worksheet",
   "language": "python",
   "name": "python_worksheet"
  },
  "language_info": {
   "codemirror_mode": {
    "name": "ipython",
    "version": 3
   },
   "file_extension": ".py",
   "mimetype": "text/x-python",
   "name": "python",
   "nbconvert_exporter": "python",
   "pygments_lexer": "ipython3",
   "version": "3.9.13"
  }
 },
 "nbformat": 4,
 "nbformat_minor": 5
}
