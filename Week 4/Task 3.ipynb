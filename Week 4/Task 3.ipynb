{
 "cells": [
  {
   "cell_type": "code",
   "execution_count": 16,
   "id": "0a22b1a4",
   "metadata": {},
   "outputs": [
    {
     "name": "stdout",
     "output_type": "stream",
     "text": [
      "Hello, this program will turn your mark into a grade!\n",
      "\n",
      "Please type the mark you recieved below!\n",
      "\n",
      "Enter here: 50\n",
      "\n",
      "Please now type the total marks of the entire test!\n",
      "\n",
      "Enter here: 10\n",
      "\n",
      "I don't think your mark is higher than the total! Try again ->\n",
      "\n",
      "\n",
      "Please type the mark you recieved below!\n",
      "\n",
      "Enter here: 9\n",
      "\n",
      "Please now type the total marks of the entire test!\n",
      "\n",
      "Enter here: 10\n",
      "\n",
      "With a mark of 9 out of 10 , your grade is a First!\n"
     ]
    }
   ],
   "source": [
    "from time import sleep\n",
    "\n",
    "print(\"Hello, this program will turn your mark into a grade!\")\n",
    "\n",
    "def usrInp():\n",
    "    usrMark = input(\"\\nPlease type the mark you recieved below!\\n\\nEnter here: \")\n",
    "    testTotal = input(\"\\nPlease now type the total marks of the entire test!\\n\\nEnter here: \")\n",
    "    if usrMark.isnumeric() and testTotal.isnumeric():\n",
    "        usrMark = int(usrMark)\n",
    "        testTotal = int(testTotal)\n",
    "        if usrMark<=testTotal:\n",
    "            mark_grade(usrMark, testTotal)\n",
    "        else:\n",
    "            print(\"\\nI don't think your mark is higher than the total! Try again ->\\n\")\n",
    "            sleep(2)\n",
    "            usrInp()\n",
    "    else:\n",
    "        print(\"\\nPlease type a valid mark and total marks! Try again ->\\n\")\n",
    "        sleep(2)\n",
    "        usrInp()\n",
    "\n",
    "def mark_grade(mark, total):\n",
    "    usrGrade = \"\"\n",
    "    \n",
    "    usrGradeDeci = mark/total\n",
    "    if usrGradeDeci < 0.4:\n",
    "        usrGrade = \"FAIL\"\n",
    "    elif usrGradeDeci < 0.5:\n",
    "        usrGrade = \"Third\"\n",
    "    elif usrGradeDeci < 0.6:\n",
    "        usrGrade = \"2:2\"\n",
    "    elif usrGradeDeci < 0.7:\n",
    "        usrGrade = \"2:1\"\n",
    "    elif usrGradeDeci >= 0.7:\n",
    "        usrGrade = \"First\"\n",
    "    \n",
    "    if usrGrade == \"FAIL\":\n",
    "        print(\"\\nWith a mark of\", mark, \"out of\", total, \", unfortunatley, your grade is a\", usrGrade + \".\")\n",
    "    \n",
    "    else:\n",
    "        print(\"\\nWith a mark of\", mark, \"out of\", total, \", your grade is a\", usrGrade + \"!\")\n",
    "\n",
    "usrInp()"
   ]
  },
  {
   "cell_type": "code",
   "execution_count": null,
   "id": "d4cd5c4f",
   "metadata": {},
   "outputs": [],
   "source": []
  }
 ],
 "metadata": {
  "kernelspec": {
   "display_name": "Python_Worksheet",
   "language": "python",
   "name": "python_worksheet"
  },
  "language_info": {
   "codemirror_mode": {
    "name": "ipython",
    "version": 3
   },
   "file_extension": ".py",
   "mimetype": "text/x-python",
   "name": "python",
   "nbconvert_exporter": "python",
   "pygments_lexer": "ipython3",
   "version": "3.9.16"
  }
 },
 "nbformat": 4,
 "nbformat_minor": 5
}
