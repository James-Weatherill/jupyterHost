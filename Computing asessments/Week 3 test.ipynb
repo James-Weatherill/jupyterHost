{
 "cells": [
  {
   "cell_type": "code",
   "execution_count": 1,
   "id": "b3120227",
   "metadata": {},
   "outputs": [
    {
     "name": "stdout",
     "output_type": "stream",
     "text": [
      "144.0\n"
     ]
    }
   ],
   "source": [
    "# a =48\n",
    "# b =2\n",
    "# c =6\n",
    "# print((a/b)*c)"
   ]
  },
  {
   "cell_type": "code",
   "execution_count": 2,
   "id": "773c0495",
   "metadata": {},
   "outputs": [
    {
     "name": "stdout",
     "output_type": "stream",
     "text": [
      "None of the above conditions are satisfied\n",
      "0\n"
     ]
    }
   ],
   "source": [
    "a = 5\n",
    "\n",
    "b = 7\n",
    "\n",
    "c = 10\n",
    "\n",
    "counter = 0\n",
    "\n",
    "if a - b > 0:\n",
    "\n",
    "      print(\"b < a\")\n",
    "\n",
    "      counter = counter + 1\n",
    "\n",
    "elif a - c > 0:\n",
    "\n",
    "      print(\"c < a\")\n",
    "\n",
    "      counter = counter + 1\n",
    "\n",
    "elif b < a and c < a:\n",
    "\n",
    "     print(\"a > b and a > c\")\n",
    "\n",
    "     counter = counter + 1\n",
    "\n",
    "else:\n",
    "\n",
    "     print(\"None of the above conditions are satisfied\")\n",
    "\n",
    "print(counter)\n",
    "    "
   ]
  },
  {
   "cell_type": "code",
   "execution_count": 3,
   "id": "f610b296",
   "metadata": {},
   "outputs": [
    {
     "name": "stdout",
     "output_type": "stream",
     "text": [
      "The value of b is 100\n",
      "The value of b is 94\n",
      "The value of b is 88\n",
      "The value of b is 82\n",
      "The value of b is 76\n",
      "The value of b is 70\n",
      "The value of b is 64\n",
      "The value of b is 58\n",
      "The value of b is 52\n",
      "The value of b is 46\n",
      "The value of b is 40\n",
      "The value of b is 34\n",
      "The value of b is 28\n",
      "The value of b is 22\n",
      "The value of b is 16\n",
      "The value of b is 10\n",
      "The value of b is 4\n",
      "The value of b is -2\n",
      "The value of b is -8\n",
      "The value of b is -14\n",
      "The value of b is -20\n",
      "The value of b is -26\n",
      "The value of b is -32\n",
      "The value of b is -38\n"
     ]
    }
   ],
   "source": [
    "a = 100\n",
    "\n",
    "b = 0\n",
    "\n",
    "for i in range(0, 72, 3):\n",
    "\n",
    "    b = a - 2*i\n",
    "\n",
    "    print(\"The value of b is\", b)"
   ]
  },
  {
   "cell_type": "code",
   "execution_count": null,
   "id": "d2e2ea7f",
   "metadata": {},
   "outputs": [],
   "source": []
  }
 ],
 "metadata": {
  "kernelspec": {
   "display_name": "Python_Worksheet",
   "language": "python",
   "name": "python_worksheet"
  },
  "language_info": {
   "codemirror_mode": {
    "name": "ipython",
    "version": 3
   },
   "file_extension": ".py",
   "mimetype": "text/x-python",
   "name": "python",
   "nbconvert_exporter": "python",
   "pygments_lexer": "ipython3",
   "version": "3.9.16"
  }
 },
 "nbformat": 4,
 "nbformat_minor": 5
}
