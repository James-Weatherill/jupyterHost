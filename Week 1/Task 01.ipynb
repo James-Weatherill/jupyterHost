{
 "cells": [
  {
   "cell_type": "code",
   "execution_count": 17,
   "id": "4105d12f",
   "metadata": {},
   "outputs": [
    {
     "name": "stdout",
     "output_type": "stream",
     "text": [
      "John\n",
      "46\n",
      "Single\n",
      "\n",
      "Samsung\n"
     ]
    }
   ],
   "source": [
    "dictJ = {\n",
    "'Name':'John', 'Age':46, 'Status':'Single'\n",
    "}\n",
    "\n",
    "phonebrand = 'Samsung'\n",
    "\n",
    "print(dictJ.get('Name'))\n",
    "print(dictJ.get('Age'))\n",
    "print(dictJ.get('Status'))\n",
    "\n",
    "print('\\n' + phonebrand)"
   ]
  },
  {
   "cell_type": "code",
   "execution_count": null,
   "id": "c4b71a1c",
   "metadata": {},
   "outputs": [],
   "source": []
  }
 ],
 "metadata": {
  "kernelspec": {
   "display_name": "Python_Worksheet",
   "language": "python",
   "name": "python_worksheet"
  },
  "language_info": {
   "codemirror_mode": {
    "name": "ipython",
    "version": 3
   },
   "file_extension": ".py",
   "mimetype": "text/x-python",
   "name": "python",
   "nbconvert_exporter": "python",
   "pygments_lexer": "ipython3",
   "version": "3.9.16"
  }
 },
 "nbformat": 4,
 "nbformat_minor": 5
}
