{
 "cells": [
  {
   "cell_type": "code",
   "execution_count": 1,
   "id": "39c04bb9",
   "metadata": {},
   "outputs": [
    {
     "name": "stdout",
     "output_type": "stream",
     "text": [
      "False\n",
      "True\n",
      "False\n",
      "True\n"
     ]
    }
   ],
   "source": [
    "houseCar = False\n",
    "houseSofa = True\n",
    "garageLawnmower = False\n",
    "garageTent = True"
   ]
  },
  {
   "cell_type": "code",
   "execution_count": 3,
   "id": "aa3bac24",
   "metadata": {},
   "outputs": [
    {
     "name": "stdout",
     "output_type": "stream",
     "text": [
      "False\n",
      "True\n",
      "False\n",
      "True\n"
     ]
    }
   ],
   "source": [
    "print(houseCar)\n",
    "print(houseSofa)\n",
    "print(garageLawnmower)\n",
    "print(garageTent)"
   ]
  },
  {
   "cell_type": "code",
   "execution_count": 8,
   "id": "8d0a61bc",
   "metadata": {},
   "outputs": [
    {
     "name": "stdout",
     "output_type": "stream",
     "text": [
      "I have sofa in my house: True, I have a tent in my garage: True\n",
      "I have car in my house: True, I have a lawnmower in my garage: True\n",
      "I do not have a car in my house: False\n"
     ]
    }
   ],
   "source": [
    "print('I have sofa in my house: ' + str(houseSofa) + ', I have a tent in my garage: ' + str(garageTent))\n",
    "print('I have car in my house: ' + str(houseSofa) + ', I have a lawnmower in my garage: ' + str(garageTent))\n",
    "print('I do not have a car in my house: ' + str(houseCar))"
   ]
  },
  {
   "cell_type": "code",
   "execution_count": null,
   "id": "db0c0dac",
   "metadata": {},
   "outputs": [],
   "source": []
  }
 ],
 "metadata": {
  "kernelspec": {
   "display_name": "Python_Worksheet",
   "language": "python",
   "name": "python_worksheet"
  },
  "language_info": {
   "codemirror_mode": {
    "name": "ipython",
    "version": 3
   },
   "file_extension": ".py",
   "mimetype": "text/x-python",
   "name": "python",
   "nbconvert_exporter": "python",
   "pygments_lexer": "ipython3",
   "version": "3.9.16"
  }
 },
 "nbformat": 4,
 "nbformat_minor": 5
}
