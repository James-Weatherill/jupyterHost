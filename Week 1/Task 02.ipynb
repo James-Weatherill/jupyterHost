{
 "cells": [
  {
   "cell_type": "code",
   "execution_count": 8,
   "id": "e84a67ea",
   "metadata": {},
   "outputs": [
    {
     "name": "stdout",
     "output_type": "stream",
     "text": [
      "Please type a degree (in celsius)\n",
      "that will be converted to Fahrenheit: 32\n",
      "\n",
      "32 degrees Celsius in Fahrenheit is: 89.6\n",
      "\n",
      "Temp variable: 245.64 Fahrenheit\n"
     ]
    }
   ],
   "source": [
    "temp = '245.64 Fahrenheit'\n",
    "CelWant = int(input('Please type a degree (in celsius)\\nthat will be converted to Fahrenheit: '))\n",
    "print('\\n' + str(CelWant), 'degrees Celsius in Fahrenheit is: ' + str((CelWant*(9/5))+32))\n",
    "\n",
    "print('\\nTemp variable: ' + temp)"
   ]
  },
  {
   "cell_type": "code",
   "execution_count": null,
   "id": "0bcc1e0f",
   "metadata": {},
   "outputs": [],
   "source": []
  }
 ],
 "metadata": {
  "kernelspec": {
   "display_name": "Python_Worksheet",
   "language": "python",
   "name": "python_worksheet"
  },
  "language_info": {
   "codemirror_mode": {
    "name": "ipython",
    "version": 3
   },
   "file_extension": ".py",
   "mimetype": "text/x-python",
   "name": "python",
   "nbconvert_exporter": "python",
   "pygments_lexer": "ipython3",
   "version": "3.9.16"
  }
 },
 "nbformat": 4,
 "nbformat_minor": 5
}
