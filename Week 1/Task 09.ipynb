{
 "cells": [
  {
   "cell_type": "code",
   "execution_count": 4,
   "id": "40389eaf",
   "metadata": {},
   "outputs": [
    {
     "name": "stdout",
     "output_type": "stream",
     "text": [
      "Enter number of items for group 1: 8\n",
      "Enter number of items for group 2: 6\n",
      "\n",
      "There are 3003.0 different ways of\n",
      "having two baskets of 8 items and 6 items!\n"
     ]
    }
   ],
   "source": [
    "from math import factorial as facto\n",
    "\n",
    "mNum = int(input('Enter number of items for group 1: '))\n",
    "nNum = int(input('Enter number of items for group 2: '))\n",
    "\n",
    "mFact = facto(mNum)\n",
    "nFact = facto(nNum)\n",
    "mpnFact = facto((mNum+nNum))\n",
    "\n",
    "ans = ((mpnFact)/(mFact*nFact))\n",
    "\n",
    "print('\\nThere are', ans, 'different ways of\\nhaving two baskets of', mNum, 'items and', nNum, 'items!')"
   ]
  },
  {
   "cell_type": "code",
   "execution_count": null,
   "id": "a2d6d848",
   "metadata": {},
   "outputs": [],
   "source": []
  }
 ],
 "metadata": {
  "kernelspec": {
   "display_name": "Python_Worksheet",
   "language": "python",
   "name": "python_worksheet"
  },
  "language_info": {
   "codemirror_mode": {
    "name": "ipython",
    "version": 3
   },
   "file_extension": ".py",
   "mimetype": "text/x-python",
   "name": "python",
   "nbconvert_exporter": "python",
   "pygments_lexer": "ipython3",
   "version": "3.9.16"
  }
 },
 "nbformat": 4,
 "nbformat_minor": 5
}
