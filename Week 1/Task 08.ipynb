{
 "cells": [
  {
   "cell_type": "code",
   "execution_count": 8,
   "id": "0452ff4d",
   "metadata": {},
   "outputs": [
    {
     "name": "stdout",
     "output_type": "stream",
     "text": [
      "Below, enter 10 data samples, one-by-one:\n",
      "\n",
      "Sample 1:  5\n",
      "Sample 2:  5\n",
      "Sample 3:  5\n",
      "Sample 4:  5\n",
      "Sample 5:  5\n",
      "Sample 6:  5\n",
      "Sample 7:  5\n",
      "Sample 8:  5\n",
      "Sample 9:  5\n",
      "Sample 10: 5\n",
      "\n",
      "Variance of the sample set is: 0\n"
     ]
    }
   ],
   "source": [
    "import statistics\n",
    "\n",
    "print('Below, enter 10 data samples, one-by-one:\\n')\n",
    "var1 = int(input('Sample 1:  '))\n",
    "var2 = int(input('Sample 2:  '))\n",
    "var3 = int(input('Sample 3:  '))\n",
    "var4 = int(input('Sample 4:  '))\n",
    "var5 = int(input('Sample 5:  '))\n",
    "var6 = int(input('Sample 6:  '))\n",
    "var7 = int(input('Sample 7:  '))\n",
    "var8 = int(input('Sample 8:  '))\n",
    "var9 = int(input('Sample 9:  '))\n",
    "var10 = int(input('Sample 10: '))\n",
    "\n",
    "varList = [var1,var2,var3,var4,var5,var6,var7,var8,var9,var10]\n",
    "\n",
    "variance = statistics.variance(varList)\n",
    "\n",
    "print('\\nVariance of the sample set is:', variance)"
   ]
  },
  {
   "cell_type": "code",
   "execution_count": null,
   "id": "f6b90fca",
   "metadata": {},
   "outputs": [],
   "source": []
  }
 ],
 "metadata": {
  "kernelspec": {
   "display_name": "Python_Worksheet",
   "language": "python",
   "name": "python_worksheet"
  },
  "language_info": {
   "codemirror_mode": {
    "name": "ipython",
    "version": 3
   },
   "file_extension": ".py",
   "mimetype": "text/x-python",
   "name": "python",
   "nbconvert_exporter": "python",
   "pygments_lexer": "ipython3",
   "version": "3.9.16"
  }
 },
 "nbformat": 4,
 "nbformat_minor": 5
}
