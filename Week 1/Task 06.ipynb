{
 "cells": [
  {
   "cell_type": "code",
   "execution_count": 5,
   "id": "cf7d9c47",
   "metadata": {},
   "outputs": [
    {
     "name": "stdout",
     "output_type": "stream",
     "text": [
      "Please type a mass (in kg): 25\n",
      "Please type a velocity (in m/s): 7\n",
      "\n",
      "612.5 Joules\n",
      "\n",
      "0.0001701388888888889 kWh\n"
     ]
    }
   ],
   "source": [
    "mass = float(input('Please type a mass (in kg): '))\n",
    "velocity = float(input('Please type a velocity (in m/s): '))\n",
    "\n",
    "joulesVal = 0.5*mass*(velocity**2)\n",
    "\n",
    "print('\\n' + str(joulesVal) + ' Joules')\n",
    "print('\\n' + str(joulesVal*(1/3600000)) + ' kWh')"
   ]
  },
  {
   "cell_type": "code",
   "execution_count": null,
   "id": "b68ac106",
   "metadata": {},
   "outputs": [],
   "source": []
  }
 ],
 "metadata": {
  "kernelspec": {
   "display_name": "Python_Worksheet",
   "language": "python",
   "name": "python_worksheet"
  },
  "language_info": {
   "codemirror_mode": {
    "name": "ipython",
    "version": 3
   },
   "file_extension": ".py",
   "mimetype": "text/x-python",
   "name": "python",
   "nbconvert_exporter": "python",
   "pygments_lexer": "ipython3",
   "version": "3.9.16"
  }
 },
 "nbformat": 4,
 "nbformat_minor": 5
}
