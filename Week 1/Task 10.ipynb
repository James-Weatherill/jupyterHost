{
 "cells": [
  {
   "cell_type": "code",
   "execution_count": 4,
   "id": "b710e177",
   "metadata": {},
   "outputs": [
    {
     "name": "stdout",
     "output_type": "stream",
     "text": [
      "Please enter Length and Width of metal sheet below::\n",
      "Enter Length in cm:  25\n",
      "Enter Width in cm:   25\n",
      "\n",
      "Now, please enter Base Radius and Height of the cone you'd like below: \n",
      "Enter Base Radius in cm:  9\n",
      "Enter Height in cm:       4\n",
      "\n",
      "You have 92.061cm² of metal left over!\n"
     ]
    }
   ],
   "source": [
    "from math import pi, sqrt\n",
    "\n",
    "print(\"Please enter Length and Width of metal sheet below::\")\n",
    "sheetLen = float(input(\"Enter Length in cm:  \"))\n",
    "sheetWid = float(input(\"Enter Width in cm:   \"))\n",
    "\n",
    "print(\"\\nNow, please enter Base Radius and Height of the cone you'd like below: \")\n",
    "coneRad = float(input(\"Enter Base Radius in cm:  \"))\n",
    "coneHei = float(input(\"Enter Height in cm:       \"))\n",
    "\n",
    "sheetArea = sheetLen*sheetWid\n",
    "coneSurfArea = pi*coneRad*(coneRad+sqrt((coneHei**2)+(coneRad**2)))\n",
    "\n",
    "leftover = round(sheetArea-coneSurfArea, 3)\n",
    "\n",
    "if leftover>0:\n",
    "    print('\\nYou have', str(leftover) + 'cm\\u00b2 of metal left over!')\n",
    "elif leftover<0:\n",
    "    print('\\nYou do not have enough metal, you need at least', str(abs(leftover)) + 'cm\\u00b2 more metal!')\n",
    "else:\n",
    "    print('\\nYou have exactly the right ammount of metal.', str(leftover) + 'cm\\u00b2 remaining!')"
   ]
  },
  {
   "cell_type": "code",
   "execution_count": null,
   "id": "c9571c65",
   "metadata": {},
   "outputs": [],
   "source": []
  }
 ],
 "metadata": {
  "kernelspec": {
   "display_name": "Python_Worksheet",
   "language": "python",
   "name": "python_worksheet"
  },
  "language_info": {
   "codemirror_mode": {
    "name": "ipython",
    "version": 3
   },
   "file_extension": ".py",
   "mimetype": "text/x-python",
   "name": "python",
   "nbconvert_exporter": "python",
   "pygments_lexer": "ipython3",
   "version": "3.9.16"
  }
 },
 "nbformat": 4,
 "nbformat_minor": 5
}
