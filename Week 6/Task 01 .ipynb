{
 "cells": [
  {
   "cell_type": "code",
   "execution_count": 22,
   "id": "e6469469",
   "metadata": {},
   "outputs": [
    {
     "name": "stdout",
     "output_type": "stream",
     "text": [
      "         0   1   2   3\n",
      "Row 1:  85  27  77  45\n",
      "Row 2:  34  95  16  24\n",
      "Row 3:  92  91  47   9\n",
      "Row 4:  32  83  84  97\n",
      "Row 5:   9  40  19  82\n",
      "Row 6:  14  55  24  41\n",
      "Row 7:   0  73  23  56\n",
      "Row 8:  29  61  75  34\n"
     ]
    }
   ],
   "source": [
    "import numpy as np\n",
    "import pandas as pd\n",
    "import random\n",
    "\n",
    "dataframe = np.random.randint(100, size=(8,4))\n",
    "\n",
    "dataframe = pd.DataFrame(dataframe)\n",
    "\n",
    "dataframe.index = [\"Row 1:\", \"Row 2:\", \"Row 3:\", \"Row 4:\", \"Row 5:\", \"Row 6:\", \"Row 7:\", \"Row 8:\"]\n",
    "\n",
    "print(dataframe)"
   ]
  },
  {
   "cell_type": "code",
   "execution_count": null,
   "id": "4ed5761b",
   "metadata": {},
   "outputs": [],
   "source": []
  }
 ],
 "metadata": {
  "kernelspec": {
   "display_name": "Python_Worksheet",
   "language": "python",
   "name": "python_worksheet"
  },
  "language_info": {
   "codemirror_mode": {
    "name": "ipython",
    "version": 3
   },
   "file_extension": ".py",
   "mimetype": "text/x-python",
   "name": "python",
   "nbconvert_exporter": "python",
   "pygments_lexer": "ipython3",
   "version": "3.9.13"
  }
 },
 "nbformat": 4,
 "nbformat_minor": 5
}
