{
 "cells": [
  {
   "cell_type": "code",
   "execution_count": 2,
   "id": "85a07254",
   "metadata": {},
   "outputs": [
    {
     "name": "stdout",
     "output_type": "stream",
     "text": [
      "                Band A     Band B     Band C     Band D\n",
      "Compton      £1,489.17  £1,985.56  £2,730.15  £4,467.51\n",
      "Effingham    £1,517.47  £2,023.28  £2,782.02  £4,552.39\n",
      "EastHorsley  £1,490.75  £1,987.67  £2,733.05  £4,472.25\n",
      "WestHorsley  £1,493.87  £1,991.82  £2,738.75  £4,481.59\n",
      "Normandy     £1,527.81  £2,037.07  £2,800.98  £4,583.41\n"
     ]
    }
   ],
   "source": [
    "import pandas as pd\n",
    "\n",
    "ComptonList = ['£1,489.17', '£1,737.36', '£1,985.56', '£2,233.76', '£2,730.15', '£3,226.54', '£3,722.93', '£4,467.51']\n",
    "EffinghamList = ['£1,517.47', '£1,770.37', '£2,023.28', '£2,276.20', '£2,782.02', '£3,287.84', '£3,793.66', '£4,552.39']\n",
    "EastHorsleyList = ['£1,490.75', '£1,739.20', '£1,987.67', '£2,236.13', '£2,733.05', '£3,229.96', '£3,726.88', '£4,472.25']\n",
    "WestHorsleyList = ['£1,493.87', '£1,742.84', '£1,991.82', '£2,240.80', '£2,738.75', '£3,236.70', '£3,734.66', '£4,481.59']\n",
    "NormandyList = ['£1,527.81', '£1,782.43', '£2,037.07', '£2,291.71', '£2,800.98', '£3,310.24', '£3,819.51', '£4,583.41']\n",
    "\n",
    "dfStack = [ComptonList, EffinghamList, EastHorsleyList, WestHorsleyList, NormandyList]\n",
    "\n",
    "df = pd.DataFrame(dfStack, index=['Compton', 'Effingham', 'EastHorsley', 'WestHorsley', 'Normandy'])\n",
    "\n",
    "df = df.drop([1,3,5,6], axis=1)\n",
    "\n",
    "df = df.rename(columns={0: 'Band A', 2: 'Band B', 4: 'Band C', 7: 'Band D'})\n",
    "                                  \n",
    "print(df)\n"
   ]
  },
  {
   "cell_type": "code",
   "execution_count": null,
   "id": "6e787704",
   "metadata": {},
   "outputs": [],
   "source": []
  }
 ],
 "metadata": {
  "kernelspec": {
   "display_name": "Python_Worksheet",
   "language": "python",
   "name": "python_worksheet"
  },
  "language_info": {
   "codemirror_mode": {
    "name": "ipython",
    "version": 3
   },
   "file_extension": ".py",
   "mimetype": "text/x-python",
   "name": "python",
   "nbconvert_exporter": "python",
   "pygments_lexer": "ipython3",
   "version": "3.9.16"
  }
 },
 "nbformat": 4,
 "nbformat_minor": 5
}
