{
 "cells": [
  {
   "cell_type": "code",
   "execution_count": 16,
   "id": "a9b7846d",
   "metadata": {},
   "outputs": [
    {
     "name": "stdout",
     "output_type": "stream",
     "text": [
      "Welcome! Please enter your name: siana\n",
      "\n",
      "We will play a game, where you will guess a number between 1 and 10!\n",
      "\n",
      "Enter number here: 7\n",
      "\n",
      "Sorry, Random number: 3 -> Siana's guess: 7\n"
     ]
    }
   ],
   "source": [
    "import random\n",
    "\n",
    "ranNum = random.randint(1,10)\n",
    "\n",
    "aposS = \"'s\"\n",
    "apos = \"'\"\n",
    "\n",
    "name = input('Welcome! Please enter your name: ')\n",
    "name = name.title()\n",
    "\n",
    "if name[-1] == \"s\":\n",
    "    nameses = name + apos\n",
    "else:\n",
    "    nameses = name + aposS\n",
    "\n",
    "print(\"\\nWe will play a game, where you will guess a number between 1 and 10!\")\n",
    "\n",
    "def Guess():\n",
    "    global usrGuess\n",
    "    \n",
    "    usrGuess = int(input(\"\\nEnter number here: \"))\n",
    "    if usrGuess > 10 or usrGuess < 1:\n",
    "        print(\"\\nInvalid, guess a number between 1, and 10\")\n",
    "        Guess()\n",
    "Guess()\n",
    "\n",
    "global usrGuess\n",
    "\n",
    "if ranNum == usrGuess:\n",
    "    print(\"\\n\" + name + \", You got the number right!\\nRandom number: \" + str(ranNum) + \" -> \" + nameses + \" guess: \" + str(usrGuess))\n",
    "else:\n",
    "    print(\"\\n\" + \"Sorry, Random number: \" + str(ranNum) + \" -> \" + nameses + \" guess: \" + str(usrGuess))"
   ]
  },
  {
   "cell_type": "code",
   "execution_count": null,
   "id": "9a754459",
   "metadata": {},
   "outputs": [],
   "source": []
  }
 ],
 "metadata": {
  "kernelspec": {
   "display_name": "Python 3 (ipykernel)",
   "language": "python",
   "name": "python3"
  },
  "language_info": {
   "codemirror_mode": {
    "name": "ipython",
    "version": 3
   },
   "file_extension": ".py",
   "mimetype": "text/x-python",
   "name": "python",
   "nbconvert_exporter": "python",
   "pygments_lexer": "ipython3",
   "version": "3.9.16"
  }
 },
 "nbformat": 4,
 "nbformat_minor": 5
}
