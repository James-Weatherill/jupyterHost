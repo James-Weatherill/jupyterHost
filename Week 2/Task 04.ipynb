{
 "cells": [
  {
   "cell_type": "code",
   "execution_count": 2,
   "id": "eefee77f",
   "metadata": {},
   "outputs": [
    {
     "name": "stdout",
     "output_type": "stream",
     "text": [
      "After 7 years, the price falls below £1,000 -> (£956.59)\n"
     ]
    }
   ],
   "source": [
    "motBike = 2000\n",
    "\n",
    "years = 0\n",
    "while motBike > 1000:\n",
    "    motBike = motBike*0.9\n",
    "    years += 1\n",
    "\n",
    "print(\"After \" + str(years) + \" years, the price falls below £1,000 -> (£\" + str(round(motBike,2)) + \")\")"
   ]
  },
  {
   "cell_type": "code",
   "execution_count": null,
   "id": "977d8fc1",
   "metadata": {},
   "outputs": [],
   "source": []
  }
 ],
 "metadata": {
  "kernelspec": {
   "display_name": "Python_Worksheet",
   "language": "python",
   "name": "python_worksheet"
  },
  "language_info": {
   "codemirror_mode": {
    "name": "ipython",
    "version": 3
   },
   "file_extension": ".py",
   "mimetype": "text/x-python",
   "name": "python",
   "nbconvert_exporter": "python",
   "pygments_lexer": "ipython3",
   "version": "3.9.16"
  }
 },
 "nbformat": 4,
 "nbformat_minor": 5
}
