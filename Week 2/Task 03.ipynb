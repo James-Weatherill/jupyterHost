{
 "cells": [
  {
   "cell_type": "code",
   "execution_count": 1,
   "id": "2fb97c82",
   "metadata": {
    "scrolled": false
   },
   "outputs": [
    {
     "name": "stdout",
     "output_type": "stream",
     "text": [
      "Hello, and welcome!\n",
      "\n",
      "Today I will be asking you for your favourite: Starter, Main and Dessert!\n",
      "\n",
      "I will also be asking for your beverage of choice!\n",
      "\n",
      "Please enter the details below:\n",
      "\n",
      "Please enter your name: Bryan\n",
      "\n",
      "Bryan, Please enter you Starter of choice: James\n",
      "\n",
      "Now, please enter your favourite Main meal: Curly\n",
      "\n",
      "Finally, Bryan, please enter your ideal Dessert to finish off a meal: Phenel\n",
      "\n",
      "We would also like to know your Drink of choice for such an occasion: piss\n",
      "\n",
      "Thank you Bryan. We will now show you your menu so you can confirm:\n",
      "\n",
      "Your menu for your night out:\n",
      "\n",
      "Your Succulent Starter : James\n",
      "Your Magnificent Main  : Curly\n",
      "Your Delicious Dessert : Phenel\n",
      "\n",
      "and Your Devine Drink  : piss\n"
     ]
    }
   ],
   "source": [
    "print(\"Hello, and welcome!\\n\\nToday I will be asking you for your favourite: Starter, Main and Dessert!\")\n",
    "print(\"\\nI will also be asking for your beverage of choice!\\n\\nPlease enter the details below:\")\n",
    "\n",
    "name = input(\"\\nPlease enter your name: \")\n",
    "name = name.title()\n",
    "\n",
    "start = input(\"\\n\" + name + \", Please enter you Starter of choice: \")\n",
    "main = input(\"\\nNow, please enter your favourite Main meal: \")\n",
    "dessert = input(\"\\nFinally, \" + name + \", please enter your ideal Dessert to finish off a meal: \")\n",
    "\n",
    "drink = input(\"\\nWe would also like to know your Drink of choice for such an occasion: \")\n",
    "\n",
    "print(\"\\nThank you \" + name + \". We will now show you your menu so you can confirm:\")\n",
    "\n",
    "print(\"\"\"\\nYour menu for your night out:\n",
    "\\nYour Succulent Starter : \"\"\" + start + \"\"\"\n",
    "Your Magnificent Main  : \"\"\" + main + \"\"\"\n",
    "Your Delicious Dessert : \"\"\" + dessert + \"\"\"\n",
    "\n",
    "and Your Devine Drink  : \"\"\" + drink)"
   ]
  },
  {
   "cell_type": "code",
   "execution_count": null,
   "id": "58ff1af0",
   "metadata": {},
   "outputs": [],
   "source": []
  }
 ],
 "metadata": {
  "kernelspec": {
   "display_name": "Python_Worksheet",
   "language": "python",
   "name": "python_worksheet"
  },
  "language_info": {
   "codemirror_mode": {
    "name": "ipython",
    "version": 3
   },
   "file_extension": ".py",
   "mimetype": "text/x-python",
   "name": "python",
   "nbconvert_exporter": "python",
   "pygments_lexer": "ipython3",
   "version": "3.9.13"
  }
 },
 "nbformat": 4,
 "nbformat_minor": 5
}
