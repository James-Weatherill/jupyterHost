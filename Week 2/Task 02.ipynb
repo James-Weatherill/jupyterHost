{
 "cells": [
  {
   "cell_type": "code",
   "execution_count": null,
   "id": "24c1e860",
   "metadata": {},
   "outputs": [
    {
     "name": "stdout",
     "output_type": "stream",
     "text": [
      "Please type your name here: fEMI\n"
     ]
    }
   ],
   "source": [
    "jokeDict = {\n",
    "    \"ones\":\"Why don't oysters donate to charity? Because they're shellfish.\",\n",
    "    \"tens\":\"What does a baby computer call its father? Data.\",\n",
    "    \"twenties\":\"What happens when you witness a ship wreck? You let it sink in.\",\n",
    "    \"thirties\":\"Why did Adele cross the road? To say hello from the other side!\",\n",
    "    \"fourties\":\"What's the best way to carve wood? Whittle by whittle.\",\n",
    "    \"fifties\":\"How do you organize an astronomer's party? You planet.\",\n",
    "    \"sixties\":\"Why should you never eat a clock? Because it's too time-consuming.\",\n",
    "    \"seventies\":\"How did Ebenezer Scrooge win the football game? The ghost of Christmas passed!\",\n",
    "    \"eighties\":\"What kinds of pictures do hermit crabs take? Shellfies.\",\n",
    "    \"ninties\":\"What's the No. 1 cause of divorce? Marriage!\"\n",
    "}\n",
    "\n",
    "numList = list(range(1,101))\n",
    "\n",
    "name = input(\"Please type your name here: \")\n",
    "name = name.title()\n",
    "\n",
    "i = True\n",
    "while i:\n",
    "    numStr = input(\"\\n\" + name + \", please enter an integer between 1 and 100: \")\n",
    "    if numStr.isnumeric():\n",
    "        num = int(numStr)\n",
    "        i = False\n",
    "    else:\n",
    "        print(\"\\nInvalid, not a number\")\n",
    "\n",
    "j = True\n",
    "while j:\n",
    "    if num not in numList:\n",
    "        print(\"\\nInvalid, try another number\")\n",
    "\n",
    "    elif num < 10:\n",
    "        print(\"\\n\" + jokeDict[\"ones\"])\n",
    "        j = False\n",
    "\n",
    "    elif num < 20:\n",
    "        print(\"\\n\" + jokeDict[\"tens\"])\n",
    "        j = False\n",
    "\n",
    "    elif num < 30:\n",
    "        print(\"\\n\" + jokeDict[\"twenties\"])\n",
    "        j = False\n",
    "\n",
    "    elif num < 40:\n",
    "        print(\"\\n\" + jokeDict[\"thirties\"])\n",
    "        j = False\n",
    "\n",
    "    elif num < 50:\n",
    "        print(\"\\n\" + jokeDict[\"fourties\"])\n",
    "        j = False\n",
    "\n",
    "    elif num < 60:\n",
    "        print(\"\\n\" + jokeDict[\"fifties\"])\n",
    "        j = False\n",
    "\n",
    "    elif num < 70:\n",
    "        print(\"\\n\" + jokeDict[\"sixties\"])\n",
    "        j = False\n",
    "\n",
    "    elif num < 80:\n",
    "        print(\"\\n\" + jokeDict[\"seventies\"])\n",
    "        j = False\n",
    "\n",
    "    elif num < 90:\n",
    "        print(\"\\n\" + jokeDict[\"eighties\"])\n",
    "        j = False\n",
    "\n",
    "    elif num <= 100:\n",
    "        print(\"\\n\" + jokeDict[\"ninties\"])\n",
    "        j = False\n",
    "\n",
    "    else:\n",
    "        print(\"\\nInvalid, try another number\")"
   ]
  },
  {
   "cell_type": "code",
   "execution_count": null,
   "id": "23f241d1",
   "metadata": {},
   "outputs": [],
   "source": []
  }
 ],
 "metadata": {
  "kernelspec": {
   "display_name": "Python_Worksheet",
   "language": "python",
   "name": "python_worksheet"
  },
  "language_info": {
   "codemirror_mode": {
    "name": "ipython",
    "version": 3
   },
   "file_extension": ".py",
   "mimetype": "text/x-python",
   "name": "python",
   "nbconvert_exporter": "python",
   "pygments_lexer": "ipython3",
   "version": "3.9.13"
  }
 },
 "nbformat": 4,
 "nbformat_minor": 5
}
