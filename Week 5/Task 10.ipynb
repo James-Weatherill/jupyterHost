{
 "cells": [
  {
   "cell_type": "code",
   "execution_count": 27,
   "id": "9f660258",
   "metadata": {},
   "outputs": [
    {
     "name": "stdout",
     "output_type": "stream",
     "text": [
      "[[1 2 3]\n",
      " [4 5 6]\n",
      " [7 8 9]]\n",
      "\n",
      "[[0 3 2]\n",
      " [5 3 1]\n",
      " [2 1 9]]\n",
      "\n",
      "[(0, 1), (1, 0), (2, 2)]\n"
     ]
    }
   ],
   "source": [
    "import numpy as np\n",
    "\n",
    "List = []\n",
    "\n",
    "A = np.array([1,2,3,4,5,6,7,8,9])\n",
    "A.shape = (3,3)\n",
    "\n",
    "B = np.array([0,3,2,5,3,1,2,1,9])\n",
    "B.shape = (3,3)\n",
    "\n",
    "arrNum = (-1)\n",
    "numNum = (-1)\n",
    "\n",
    "for i in A:\n",
    "    arrNum += 1\n",
    "    for j in i:\n",
    "        numNum += 1\n",
    "        if numNum>2:\n",
    "            numNum -= 3\n",
    "        loca = np.where(A == j)\n",
    "        if A[loca] <= B[loca]:\n",
    "            List.append((arrNum,numNum))\n",
    "             \n",
    "print(A)\n",
    "print(\"\")\n",
    "print(B)\n",
    "print(\"\")        \n",
    "        \n",
    "print(List)"
   ]
  },
  {
   "cell_type": "code",
   "execution_count": null,
   "id": "2bca854a",
   "metadata": {},
   "outputs": [],
   "source": []
  }
 ],
 "metadata": {
  "kernelspec": {
   "display_name": "Python_Worksheet",
   "language": "python",
   "name": "python_worksheet"
  },
  "language_info": {
   "codemirror_mode": {
    "name": "ipython",
    "version": 3
   },
   "file_extension": ".py",
   "mimetype": "text/x-python",
   "name": "python",
   "nbconvert_exporter": "python",
   "pygments_lexer": "ipython3",
   "version": "3.9.16"
  }
 },
 "nbformat": 4,
 "nbformat_minor": 5
}
