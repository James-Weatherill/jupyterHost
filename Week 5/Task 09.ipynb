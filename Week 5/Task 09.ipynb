{
 "cells": [
  {
   "cell_type": "code",
   "execution_count": 2,
   "id": "bd5f0d15",
   "metadata": {},
   "outputs": [
    {
     "name": "stdout",
     "output_type": "stream",
     "text": [
      "40\n"
     ]
    }
   ],
   "source": [
    "import numpy as np\n",
    "\n",
    "a = np.array([1,2,3,4,5])\n",
    "b = np.array([4,5,6,7,8,9])\n",
    "\n",
    "for i in a:\n",
    "    if i<5 or i>9:\n",
    "        a = np.delete(a, np.where(a == i))\n",
    "\n",
    "for j in b:\n",
    "    if j<5 or j>9:\n",
    "        b = np.delete(b, np.where(b == j))\n",
    "        \n",
    "aAndb = np.concatenate((a,b), axis=None)\n",
    "\n",
    "abSum = np.sum(aAndb)\n",
    "\n",
    "print(abSum)"
   ]
  },
  {
   "cell_type": "code",
   "execution_count": null,
   "id": "95254a88",
   "metadata": {},
   "outputs": [],
   "source": []
  }
 ],
 "metadata": {
  "kernelspec": {
   "display_name": "Python_Worksheet",
   "language": "python",
   "name": "python_worksheet"
  },
  "language_info": {
   "codemirror_mode": {
    "name": "ipython",
    "version": 3
   },
   "file_extension": ".py",
   "mimetype": "text/x-python",
   "name": "python",
   "nbconvert_exporter": "python",
   "pygments_lexer": "ipython3",
   "version": "3.9.13"
  }
 },
 "nbformat": 4,
 "nbformat_minor": 5
}
