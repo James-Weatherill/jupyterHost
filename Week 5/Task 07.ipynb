{
 "cells": [
  {
   "cell_type": "code",
   "execution_count": 7,
   "id": "4745bdcb",
   "metadata": {},
   "outputs": [
    {
     "name": "stdout",
     "output_type": "stream",
     "text": [
      "[1. 1. 1. 2. 2. 2. 3. 3. 3. 1. 2. 3. 1. 2. 3. 1. 2. 3.]\n"
     ]
    }
   ],
   "source": [
    "import numpy as np\n",
    "\n",
    "ones9 = np.ones(9)\n",
    "ones9 = 3*ones9\n",
    "\n",
    "ones6 = np.ones(6)\n",
    "zeros3 = np.zeros(3)\n",
    "ones6 = ones6\n",
    "ones6 = np.concatenate((ones6, zeros3), axis=None)\n",
    "\n",
    "ones3 = np.ones(3)\n",
    "zeros6 = np.zeros(6)\n",
    "ones3 = np.concatenate((ones3, zeros6), axis=None)\n",
    "\n",
    "half1 = ones9-ones6-ones3\n",
    "\n",
    "ott = np.arange(1,4)\n",
    "ott3 = np.concatenate((ott, ott, ott), axis=None)\n",
    "\n",
    "full = np.concatenate((half1, ott3), axis=None)\n",
    "\n",
    "print(full)"
   ]
  },
  {
   "cell_type": "code",
   "execution_count": null,
   "id": "398f2c84",
   "metadata": {},
   "outputs": [],
   "source": []
  }
 ],
 "metadata": {
  "kernelspec": {
   "display_name": "Python_Worksheet",
   "language": "python",
   "name": "python_worksheet"
  },
  "language_info": {
   "codemirror_mode": {
    "name": "ipython",
    "version": 3
   },
   "file_extension": ".py",
   "mimetype": "text/x-python",
   "name": "python",
   "nbconvert_exporter": "python",
   "pygments_lexer": "ipython3",
   "version": "3.9.13"
  }
 },
 "nbformat": 4,
 "nbformat_minor": 5
}
