{
 "cells": [
  {
   "cell_type": "code",
   "execution_count": 1,
   "id": "18419438",
   "metadata": {},
   "outputs": [
    {
     "name": "stdout",
     "output_type": "stream",
     "text": [
      "729\n",
      "[ 3  6 11 98 12 34]\n"
     ]
    }
   ],
   "source": [
    "import numpy as np\n",
    "\n",
    "a = np.array([1,3,7,93,6,27])\n",
    "b = np.array([2,3,4,5,6,7])\n",
    "\n",
    "adotb = np.dot(a,b)\n",
    "\n",
    "asumb = a+b\n",
    "\n",
    "print(adotb)\n",
    "print(asumb)"
   ]
  },
  {
   "cell_type": "code",
   "execution_count": null,
   "id": "60da80b1",
   "metadata": {},
   "outputs": [],
   "source": []
  }
 ],
 "metadata": {
  "kernelspec": {
   "display_name": "Python_Worksheet",
   "language": "python",
   "name": "python_worksheet"
  },
  "language_info": {
   "codemirror_mode": {
    "name": "ipython",
    "version": 3
   },
   "file_extension": ".py",
   "mimetype": "text/x-python",
   "name": "python",
   "nbconvert_exporter": "python",
   "pygments_lexer": "ipython3",
   "version": "3.9.13"
  }
 },
 "nbformat": 4,
 "nbformat_minor": 5
}
