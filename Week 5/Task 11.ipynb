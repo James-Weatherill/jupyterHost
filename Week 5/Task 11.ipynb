{
 "cells": [
  {
   "cell_type": "code",
   "execution_count": 11,
   "id": "d7124a4e",
   "metadata": {},
   "outputs": [
    {
     "name": "stdout",
     "output_type": "stream",
     "text": [
      "Hello, this is a Markov Chain calculator!:\n",
      "\n",
      "Please enter the size of the transition matrix you would like below:\n",
      "\n",
      "Enter the matrix size here: 3\n",
      "\n",
      "We will now enter an inital inital state array of length: 3\n",
      "Enter a value: 1\n",
      "Enter a value: 2\n",
      "Enter a value: 3\n",
      "\n",
      "We will now go row by row, left to right, for values in the matrix!\n",
      "Please enter a value: 1\n",
      "Please enter a value: 2\n",
      "Please enter a value: 3\n",
      "Please enter a value: 4\n",
      "Please enter a value: 5\n",
      "Please enter a value: 6\n",
      "Please enter a value: 7\n",
      "Please enter a value: 8\n",
      "Please enter a value: 9\n",
      "Initial: [1. 2. 3.] \n",
      "Matrix: [[1. 2. 3.]\n",
      " [4. 5. 6.]\n",
      " [7. 8. 9.]]\n"
     ]
    }
   ],
   "source": [
    "import numpy as np\n",
    "from time import sleep\n",
    "\n",
    "initList = []\n",
    "\n",
    "print(\"Hello, this is a Markov Chain calculator!:\")\n",
    "\n",
    "def sizeMat():\n",
    "    print(\"\\nPlease enter the size of the transition matrix you would like below:\\n\")\n",
    "    usrSize = input(\"Enter the matrix size here: \")\n",
    "    if usrSize.isnumeric():\n",
    "        usrSize = int(usrSize)\n",
    "        sizeInit(usrSize)\n",
    "    else:\n",
    "        print(\"\\nInvalid, please enter an integer! Try again ->\")\n",
    "        countdown = 3\n",
    "        while countdown>0:\n",
    "            print(countdown)\n",
    "            sleep(1)\n",
    "            countdown -= 1\n",
    "        sizeMat()\n",
    "    \n",
    "def sizeInit(matSize):\n",
    "    print(\"\\nWe will now enter an inital inital state array of length:\", matSize)\n",
    "    counter = 0\n",
    "    while True:\n",
    "        app = float(input(\"Enter a value: \"))\n",
    "        initList.append(app)\n",
    "        counter += 1\n",
    "        if counter==matSize:\n",
    "            break\n",
    "    npInit = np.array(initList)\n",
    "    valsMat(matSize, npInit)\n",
    "    \n",
    "def valsMat(matSize, npInit):\n",
    "    matrix = np.zeros((matSize,matSize))\n",
    "    \n",
    "    print(\"\\nWe will now go row by row, left to right, for values in the matrix!\")\n",
    "    rowCount = -1\n",
    "    while True:\n",
    "        rowCount += 1\n",
    "        colCount = -1\n",
    "        if rowCount == matSize:\n",
    "            break\n",
    "        while True:\n",
    "            colCount += 1\n",
    "            if colCount == matSize:\n",
    "                break\n",
    "            usrInp = float(input(\"Please enter a value: \"))\n",
    "            matrix[rowCount,colCount] = usrInp\n",
    "    \n",
    "    print(\"Initial:\", npInit, \"\\nMatrix:\", matrix)\n",
    "    \n",
    "sizeMat()"
   ]
  },
  {
   "cell_type": "markdown",
   "id": "aa8afee6",
   "metadata": {},
   "source": [
    "##### "
   ]
  }
 ],
 "metadata": {
  "kernelspec": {
   "display_name": "Python_Worksheet",
   "language": "python",
   "name": "python_worksheet"
  },
  "language_info": {
   "codemirror_mode": {
    "name": "ipython",
    "version": 3
   },
   "file_extension": ".py",
   "mimetype": "text/x-python",
   "name": "python",
   "nbconvert_exporter": "python",
   "pygments_lexer": "ipython3",
   "version": "3.9.16"
  }
 },
 "nbformat": 4,
 "nbformat_minor": 5
}
